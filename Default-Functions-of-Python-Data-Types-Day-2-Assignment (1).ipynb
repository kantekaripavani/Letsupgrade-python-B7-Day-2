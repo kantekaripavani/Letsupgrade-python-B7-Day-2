{
 "cells": [
  {
   "cell_type": "markdown",
   "metadata": {},
   "source": [
    "# Python Data Types"
   ]
  },
  {
   "cell_type": "markdown",
   "metadata": {},
   "source": [
    "## 1.List Functions"
   ]
  },
  {
   "cell_type": "code",
   "execution_count": 1,
   "metadata": {},
   "outputs": [
    {
     "name": "stdout",
     "output_type": "stream",
     "text": [
      "['Pavani', 'Reyansh', 'Naveen', 'Sandeep', 'Anudeep', '1992', '1995', '1997', '1990']\n"
     ]
    }
   ],
   "source": [
    "#1.append() is used to adds an element at the end of the list\n",
    "list1=[\"Pavani\",\"Reyansh\",\"Naveen\",\"Sandeep\",\"Anudeep\"]\n",
    "list2=[\"1992\",\"1995\",\"1997\",\"1990\"]\n",
    "for x in list2:\n",
    "    list1.append(x)\n",
    "print(list1)"
   ]
  },
  {
   "cell_type": "code",
   "execution_count": 2,
   "metadata": {},
   "outputs": [
    {
     "name": "stdout",
     "output_type": "stream",
     "text": [
      "['apple', 'banana', 'orange', 'cherry', 'qiwi', 'avacado']\n"
     ]
    }
   ],
   "source": [
    "#2.insert() is used to adds an element at the specified position\n",
    "fruits=[\"apple\",\"banana\",\"orange\",\"qiwi\",\"avacado\"]\n",
    "fruits.insert(3,\"cherry\")\n",
    "print(fruits)"
   ]
  },
  {
   "cell_type": "code",
   "execution_count": 3,
   "metadata": {},
   "outputs": [
    {
     "name": "stdout",
     "output_type": "stream",
     "text": [
      "['ajakdj', 123, 'wkoo', 1212, 2.898, 232, 23.22]\n"
     ]
    }
   ],
   "source": [
    "#3.pop() is used to removes the element at the specified position,(or the last element if index is not specified)\n",
    "ankush=[\"ajakdj\",123,\"wkoo\",1212,2.898,232,23.22,\"dijioj\"]\n",
    "ankush.pop()\n",
    "print(ankush)"
   ]
  },
  {
   "cell_type": "code",
   "execution_count": 4,
   "metadata": {},
   "outputs": [
    {
     "name": "stdout",
     "output_type": "stream",
     "text": [
      "[]\n"
     ]
    }
   ],
   "source": [
    "#4.clear() is used to remove all the elements from the list\n",
    "mylist=[\"My\",\"Name\",\"is\",\"Pavani\"]\n",
    "mylist.clear()\n",
    "print(mylist)"
   ]
  },
  {
   "cell_type": "code",
   "execution_count": 5,
   "metadata": {},
   "outputs": [
    {
     "name": "stdout",
     "output_type": "stream",
     "text": [
      "[8, 'h', 7, 'g', 6, 'f', 5, 'e', 4, 'd', 3, 'c', 2, 'b', 1, 'a']\n"
     ]
    }
   ],
   "source": [
    "#5.reverse() is used to reverses the order of the list\n",
    "shreshta=[\"a\",1,\"b\",2,\"c\",3,\"d\",4,\"e\",5,\"f\",6,\"g\",7,\"h\",8]\n",
    "shreshta.reverse()\n",
    "print(shreshta)"
   ]
  },
  {
   "cell_type": "markdown",
   "metadata": {},
   "source": [
    "## 2.Dictionary Functions"
   ]
  },
  {
   "cell_type": "code",
   "execution_count": 6,
   "metadata": {},
   "outputs": [
    {
     "name": "stdout",
     "output_type": "stream",
     "text": [
      "{'brand': 'fortune ford', 'model': 'Mustang', 'year': 1965}\n"
     ]
    }
   ],
   "source": [
    "#1.fromkeys() is used to returns a dictionary with the specified keys and value\n",
    "mydict={\"brand\":\"fortune ford\",\"model\":\"Mustang\",\"year\":1965}\n",
    "mydict.fromkeys(\"model\")\n",
    "print(mydict)"
   ]
  },
  {
   "cell_type": "code",
   "execution_count": 9,
   "metadata": {},
   "outputs": [
    {
     "name": "stdout",
     "output_type": "stream",
     "text": [
      "hyderabad\n"
     ]
    }
   ],
   "source": [
    "#2.get() is used to returns the value of the specified key\n",
    "mydict={\"name\":\"priyanka\",\"place\":\"hyderabad\",\"age\":28}\n",
    "a=mydict.get(\"place\")\n",
    "print(a)"
   ]
  },
  {
   "cell_type": "code",
   "execution_count": 7,
   "metadata": {},
   "outputs": [
    {
     "name": "stdout",
     "output_type": "stream",
     "text": [
      "{'model': 'corolla', 'year': 1998}\n"
     ]
    }
   ],
   "source": [
    "#3.pop() is used to removes the element with the specified key\n",
    "thisdict={\"brand\":\"toyota\",\"model\":\"corolla\",\"year\":1998}\n",
    "thisdict.pop(\"brand\")\n",
    "print(thisdict)"
   ]
  },
  {
   "cell_type": "code",
   "execution_count": 10,
   "metadata": {},
   "outputs": [
    {
     "name": "stdout",
     "output_type": "stream",
     "text": [
      "{}\n"
     ]
    }
   ],
   "source": [
    "#4.clear() is used to removes all the elements from the dictionary\n",
    "thisdict={\"place\":\"vijayawada\",\"country\":\"India\",\"year\":2010}\n",
    "thisdict.clear()\n",
    "print(thisdict)"
   ]
  },
  {
   "cell_type": "code",
   "execution_count": 12,
   "metadata": {},
   "outputs": [
    {
     "name": "stdout",
     "output_type": "stream",
     "text": [
      "{'name': 'reyansh', 'school': 'nbbhs', 'class': 'ukg'}\n"
     ]
    }
   ],
   "source": [
    "#5.copy() is used to returns a copy of the dictionary\n",
    "mydict={\"name\":\"reyansh\",\"school\":\"nbbhs\",\"class\":\"ukg\"}\n",
    "thisdict=mydict.copy()\n",
    "print(thisdict)"
   ]
  },
  {
   "cell_type": "markdown",
   "metadata": {},
   "source": [
    "## 3.Set Functions"
   ]
  },
  {
   "cell_type": "code",
   "execution_count": 13,
   "metadata": {},
   "outputs": [
    {
     "name": "stdout",
     "output_type": "stream",
     "text": [
      "{'apple', 'mango', 'orange', 'cherry', 'grapes', 'banana'}\n"
     ]
    }
   ],
   "source": [
    "#1.update() is used to Update the set with the union of this set and others\n",
    "thisset = {\"apple\", \"banana\", \"cherry\"}\n",
    "thisset.update([\"orange\", \"mango\", \"grapes\"])\n",
    "print(thisset)"
   ]
  },
  {
   "cell_type": "code",
   "execution_count": 14,
   "metadata": {},
   "outputs": [
    {
     "name": "stdout",
     "output_type": "stream",
     "text": [
      "{1, 2, 3, 'a', 'b', 'c'}\n"
     ]
    }
   ],
   "source": [
    "#2.union() is used to return a set containing the union of sets\n",
    "set1 = {\"a\", \"b\" , \"c\"}\n",
    "set2 = {1, 2, 3}\n",
    "set3 = set1.union(set2)\n",
    "print(set3)"
   ]
  },
  {
   "cell_type": "code",
   "execution_count": 15,
   "metadata": {},
   "outputs": [
    {
     "name": "stdout",
     "output_type": "stream",
     "text": [
      "{1, 3.67, 'b', 8, 'g', 123}\n"
     ]
    }
   ],
   "source": [
    "#3.intersection() is used to returns a set, that is the intersection of two other sets\n",
    "set1={\"a\",\"b\",1,\"c\",5,\"g\",8,\"hhi\",\"vghj\",123,786,3.67,7.98}\n",
    "set2={3.67,\"dkl\",\"wjk\",\"iul\",1,8,123,\"g\",9.8787,\"b\",\"wiijd\"}\n",
    "set3=set1.intersection(set2)\n",
    "print(set3)"
   ]
  },
  {
   "cell_type": "code",
   "execution_count": 16,
   "metadata": {},
   "outputs": [
    {
     "name": "stdout",
     "output_type": "stream",
     "text": [
      "set()\n"
     ]
    }
   ],
   "source": [
    "#4.clear() is used to removes all the elements from the set\n",
    "myset={\"hi\",\"my\",\"name\",\"is\",\"sai\",\"krishna\"}\n",
    "myset.clear()\n",
    "print(myset)"
   ]
  },
  {
   "cell_type": "code",
   "execution_count": 17,
   "metadata": {},
   "outputs": [
    {
     "name": "stdout",
     "output_type": "stream",
     "text": [
      "cherry\n",
      "{'apple', 'banana'}\n"
     ]
    }
   ],
   "source": [
    "#5.pop() is used to removes an element from the set\n",
    "thisset = {\"apple\", \"banana\", \"cherry\"}\n",
    "x = thisset.pop()\n",
    "print(x)\n",
    "print(thisset)"
   ]
  },
  {
   "cell_type": "markdown",
   "metadata": {},
   "source": [
    "## 4.Tuple Functions"
   ]
  },
  {
   "cell_type": "code",
   "execution_count": 21,
   "metadata": {},
   "outputs": [
    {
     "name": "stdout",
     "output_type": "stream",
     "text": [
      "3\n"
     ]
    }
   ],
   "source": [
    "#1.count() is used to returns the number of times a specified value occurs in a tuple\n",
    "this_tuple=(\"apple\",\"banana\",\"cherry\",\"pine_apple\",\"banana\",\"watermelon\",\"banana\")\n",
    "X=this_tuple.count(\"banana\")\n",
    "print(X)"
   ]
  },
  {
   "cell_type": "code",
   "execution_count": 22,
   "metadata": {},
   "outputs": [
    {
     "name": "stdout",
     "output_type": "stream",
     "text": [
      "1\n"
     ]
    }
   ],
   "source": [
    "#2.index() is used to Searches the tuple for a specified value and returns the position of where it was found\n",
    "this_tuple=(\"apple\",\"banana\",\"cherry\",\"pine_apple\",\"banana\",\"watermelon\",\"banana\")\n",
    "X=this_tuple.index(\"banana\")\n",
    "print(X)"
   ]
  },
  {
   "cell_type": "code",
   "execution_count": 23,
   "metadata": {},
   "outputs": [
    {
     "name": "stdout",
     "output_type": "stream",
     "text": [
      "11\n"
     ]
    }
   ],
   "source": [
    "#3.len() is used to determine how many items are present in tuple\n",
    "mytuple=(\"my\",\"friend\",\"is\",\"going\",\"to\",\"school\",\"she\",\"is\",\"now\",\"8th\",\"standard\")\n",
    "a=len(mytuple)\n",
    "print(a)"
   ]
  },
  {
   "cell_type": "code",
   "execution_count": 24,
   "metadata": {},
   "outputs": [
    {
     "name": "stdout",
     "output_type": "stream",
     "text": [
      "('a', 'b', 'c', 1, 2, 3)\n"
     ]
    }
   ],
   "source": [
    "#4.Joining two tuples using \"+\" operator\n",
    "tuple1 = (\"a\", \"b\" , \"c\")\n",
    "tuple2 = (1, 2, 3)\n",
    "tuple3 = tuple1 + tuple2\n",
    "print(tuple3)"
   ]
  },
  {
   "cell_type": "code",
   "execution_count": 25,
   "metadata": {},
   "outputs": [
    {
     "ename": "NameError",
     "evalue": "name 'thistuple' is not defined",
     "output_type": "error",
     "traceback": [
      "\u001b[1;31m---------------------------------------------------------------------------\u001b[0m",
      "\u001b[1;31mNameError\u001b[0m                                 Traceback (most recent call last)",
      "\u001b[1;32m<ipython-input-25-c8212e940145>\u001b[0m in \u001b[0;36m<module>\u001b[1;34m\u001b[0m\n\u001b[0;32m      2\u001b[0m \u001b[0mthistuple\u001b[0m \u001b[1;33m=\u001b[0m \u001b[1;33m(\u001b[0m\u001b[1;34m\"apple\"\u001b[0m\u001b[1;33m,\u001b[0m \u001b[1;34m\"banana\"\u001b[0m\u001b[1;33m,\u001b[0m \u001b[1;34m\"cherry\"\u001b[0m\u001b[1;33m)\u001b[0m\u001b[1;33m\u001b[0m\u001b[1;33m\u001b[0m\u001b[0m\n\u001b[0;32m      3\u001b[0m \u001b[1;32mdel\u001b[0m \u001b[0mthistuple\u001b[0m\u001b[1;33m\u001b[0m\u001b[1;33m\u001b[0m\u001b[0m\n\u001b[1;32m----> 4\u001b[1;33m \u001b[0mprint\u001b[0m\u001b[1;33m(\u001b[0m\u001b[0mthistuple\u001b[0m\u001b[1;33m)\u001b[0m \u001b[1;31m#this will raise an error because the tuple no longer exists\u001b[0m\u001b[1;33m\u001b[0m\u001b[1;33m\u001b[0m\u001b[0m\n\u001b[0m",
      "\u001b[1;31mNameError\u001b[0m: name 'thistuple' is not defined"
     ]
    }
   ],
   "source": [
    "#5.del() \n",
    "thistuple = (\"apple\", \"banana\", \"cherry\")\n",
    "del thistuple\n",
    "print(thistuple) #this will raise an error because the tuple no longer exists"
   ]
  },
  {
   "cell_type": "code",
   "execution_count": 26,
   "metadata": {},
   "outputs": [
    {
     "name": "stdout",
     "output_type": "stream",
     "text": [
      "<class 'tuple'>\n"
     ]
    }
   ],
   "source": [
    "#create a tuple with one item using \",\"\n",
    "thistuple = (\"apple\",)\n",
    "print(type(thistuple))"
   ]
  },
  {
   "cell_type": "markdown",
   "metadata": {},
   "source": [
    "## 5.String Functions"
   ]
  },
  {
   "cell_type": "code",
   "execution_count": 27,
   "metadata": {},
   "outputs": [
    {
     "name": "stdout",
     "output_type": "stream",
     "text": [
      "hello, world!\n"
     ]
    }
   ],
   "source": [
    "#1.lower() Converts a string into lower case\n",
    "a = \"Hello, World!\"\n",
    "print(a.lower())"
   ]
  },
  {
   "cell_type": "code",
   "execution_count": 28,
   "metadata": {},
   "outputs": [
    {
     "name": "stdout",
     "output_type": "stream",
     "text": [
      "HELLO, WORLD!\n"
     ]
    }
   ],
   "source": [
    "#2.upper() Converts a string into upper case\n",
    "a = \"Hello, World!\"\n",
    "print(a.upper())"
   ]
  },
  {
   "cell_type": "code",
   "execution_count": 29,
   "metadata": {},
   "outputs": [
    {
     "name": "stdout",
     "output_type": "stream",
     "text": [
      "My name is John, and I am 36\n"
     ]
    }
   ],
   "source": [
    "#3.format() Formats specified values in a string\n",
    "age = 36\n",
    "txt = \"My name is John, and I am {}\"\n",
    "print(txt.format(age))"
   ]
  },
  {
   "cell_type": "code",
   "execution_count": 30,
   "metadata": {},
   "outputs": [
    {
     "name": "stdout",
     "output_type": "stream",
     "text": [
      "MYnAMeIsDeVaNsH\n"
     ]
    }
   ],
   "source": [
    "#4.swapcase() Swaps cases, lower case becomes upper case and vice versa\n",
    "mystring=\"myNamEiSdEvAnSh\"\n",
    "txt=mystring.swapcase()\n",
    "print(txt)"
   ]
  },
  {
   "cell_type": "code",
   "execution_count": 31,
   "metadata": {},
   "outputs": [
    {
     "name": "stdout",
     "output_type": "stream",
     "text": [
      "Letsupgrade\n"
     ]
    }
   ],
   "source": [
    "#5.title() Converts the first character of each word to upper case\n",
    "mystring=\"letsupgrade\"\n",
    "mytxt=mystring.title()\n",
    "print(mytxt)"
   ]
  }
 ],
 "metadata": {
  "kernelspec": {
   "display_name": "Python 3",
   "language": "python",
   "name": "python3"
  },
  "language_info": {
   "codemirror_mode": {
    "name": "ipython",
    "version": 3
   },
   "file_extension": ".py",
   "mimetype": "text/x-python",
   "name": "python",
   "nbconvert_exporter": "python",
   "pygments_lexer": "ipython3",
   "version": "3.8.3"
  }
 },
 "nbformat": 4,
 "nbformat_minor": 4
}
